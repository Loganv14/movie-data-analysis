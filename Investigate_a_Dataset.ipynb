{
 "cells": [
  {
   "cell_type": "markdown",
   "metadata": {},
   "source": [
    "\n",
    "# Project: Movie Revenue Data Analysis\n",
    "\n",
    "## Table of Contents\n",
    "<ul>\n",
    "<li><a href=\"#intro\">Introduction</a></li>\n",
    "<li><a href=\"#wrangling\">Data Wrangling</a></li>\n",
    "<li><a href=\"#eda\">Exploratory Data Analysis</a></li>\n",
    "<li><a href=\"#conclusions\">Conclusions</a></li>\n",
    "</ul>"
   ]
  },
  {
   "cell_type": "markdown",
   "metadata": {},
   "source": [
    "<a id='intro'></a>\n",
    "## Introduction\n",
    "\n",
    "Data collected from about 10,000 movies across several years will be analyzed. The analysis will center on searching for factors that are correlated with movie revenue. In particular, characteristics about movies with high revenue will be compared with the same characteristics of movies with lower revenue. These characteristics include budget, rating, and genre.\n",
    "\n",
    "Ultimately, this analysis seeks to answer the questions:\n",
    "### Can movie budget, rating, or genre be used to predict revenue?\n",
    "### Do profitable movies have different characteristics than nonprofitable movies?"
   ]
  },
  {
   "cell_type": "code",
   "execution_count": 95,
   "metadata": {},
   "outputs": [],
   "source": [
    "import pandas as pd\n",
    "import numpy as np\n",
    "import matplotlib.pyplot as plt\n",
    "import seaborn as sns\n",
    "% matplotlib inline\n"
   ]
  },
  {
   "cell_type": "markdown",
   "metadata": {},
   "source": [
    "<a id='wrangling'></a>\n",
    "## Data Wrangling\n",
    "\n",
    "\n",
    "### General Properties and Cleaning"
   ]
  },
  {
   "cell_type": "code",
   "execution_count": 96,
   "metadata": {},
   "outputs": [
    {
     "data": {
      "text/html": [
       "<div>\n",
       "<style scoped>\n",
       "    .dataframe tbody tr th:only-of-type {\n",
       "        vertical-align: middle;\n",
       "    }\n",
       "\n",
       "    .dataframe tbody tr th {\n",
       "        vertical-align: top;\n",
       "    }\n",
       "\n",
       "    .dataframe thead th {\n",
       "        text-align: right;\n",
       "    }\n",
       "</style>\n",
       "<table border=\"1\" class=\"dataframe\">\n",
       "  <thead>\n",
       "    <tr style=\"text-align: right;\">\n",
       "      <th></th>\n",
       "      <th>id</th>\n",
       "      <th>imdb_id</th>\n",
       "      <th>popularity</th>\n",
       "      <th>budget</th>\n",
       "      <th>revenue</th>\n",
       "      <th>original_title</th>\n",
       "      <th>cast</th>\n",
       "      <th>homepage</th>\n",
       "      <th>director</th>\n",
       "      <th>tagline</th>\n",
       "      <th>...</th>\n",
       "      <th>overview</th>\n",
       "      <th>runtime</th>\n",
       "      <th>genres</th>\n",
       "      <th>production_companies</th>\n",
       "      <th>release_date</th>\n",
       "      <th>vote_count</th>\n",
       "      <th>vote_average</th>\n",
       "      <th>release_year</th>\n",
       "      <th>budget_adj</th>\n",
       "      <th>revenue_adj</th>\n",
       "    </tr>\n",
       "  </thead>\n",
       "  <tbody>\n",
       "    <tr>\n",
       "      <th>0</th>\n",
       "      <td>135397</td>\n",
       "      <td>tt0369610</td>\n",
       "      <td>32.985763</td>\n",
       "      <td>150000000</td>\n",
       "      <td>1513528810</td>\n",
       "      <td>Jurassic World</td>\n",
       "      <td>Chris Pratt|Bryce Dallas Howard|Irrfan Khan|Vi...</td>\n",
       "      <td>http://www.jurassicworld.com/</td>\n",
       "      <td>Colin Trevorrow</td>\n",
       "      <td>The park is open.</td>\n",
       "      <td>...</td>\n",
       "      <td>Twenty-two years after the events of Jurassic ...</td>\n",
       "      <td>124</td>\n",
       "      <td>Action|Adventure|Science Fiction|Thriller</td>\n",
       "      <td>Universal Studios|Amblin Entertainment|Legenda...</td>\n",
       "      <td>6/9/15</td>\n",
       "      <td>5562</td>\n",
       "      <td>6.5</td>\n",
       "      <td>2015</td>\n",
       "      <td>1.379999e+08</td>\n",
       "      <td>1.392446e+09</td>\n",
       "    </tr>\n",
       "    <tr>\n",
       "      <th>1</th>\n",
       "      <td>76341</td>\n",
       "      <td>tt1392190</td>\n",
       "      <td>28.419936</td>\n",
       "      <td>150000000</td>\n",
       "      <td>378436354</td>\n",
       "      <td>Mad Max: Fury Road</td>\n",
       "      <td>Tom Hardy|Charlize Theron|Hugh Keays-Byrne|Nic...</td>\n",
       "      <td>http://www.madmaxmovie.com/</td>\n",
       "      <td>George Miller</td>\n",
       "      <td>What a Lovely Day.</td>\n",
       "      <td>...</td>\n",
       "      <td>An apocalyptic story set in the furthest reach...</td>\n",
       "      <td>120</td>\n",
       "      <td>Action|Adventure|Science Fiction|Thriller</td>\n",
       "      <td>Village Roadshow Pictures|Kennedy Miller Produ...</td>\n",
       "      <td>5/13/15</td>\n",
       "      <td>6185</td>\n",
       "      <td>7.1</td>\n",
       "      <td>2015</td>\n",
       "      <td>1.379999e+08</td>\n",
       "      <td>3.481613e+08</td>\n",
       "    </tr>\n",
       "    <tr>\n",
       "      <th>2</th>\n",
       "      <td>262500</td>\n",
       "      <td>tt2908446</td>\n",
       "      <td>13.112507</td>\n",
       "      <td>110000000</td>\n",
       "      <td>295238201</td>\n",
       "      <td>Insurgent</td>\n",
       "      <td>Shailene Woodley|Theo James|Kate Winslet|Ansel...</td>\n",
       "      <td>http://www.thedivergentseries.movie/#insurgent</td>\n",
       "      <td>Robert Schwentke</td>\n",
       "      <td>One Choice Can Destroy You</td>\n",
       "      <td>...</td>\n",
       "      <td>Beatrice Prior must confront her inner demons ...</td>\n",
       "      <td>119</td>\n",
       "      <td>Adventure|Science Fiction|Thriller</td>\n",
       "      <td>Summit Entertainment|Mandeville Films|Red Wago...</td>\n",
       "      <td>3/18/15</td>\n",
       "      <td>2480</td>\n",
       "      <td>6.3</td>\n",
       "      <td>2015</td>\n",
       "      <td>1.012000e+08</td>\n",
       "      <td>2.716190e+08</td>\n",
       "    </tr>\n",
       "    <tr>\n",
       "      <th>3</th>\n",
       "      <td>140607</td>\n",
       "      <td>tt2488496</td>\n",
       "      <td>11.173104</td>\n",
       "      <td>200000000</td>\n",
       "      <td>2068178225</td>\n",
       "      <td>Star Wars: The Force Awakens</td>\n",
       "      <td>Harrison Ford|Mark Hamill|Carrie Fisher|Adam D...</td>\n",
       "      <td>http://www.starwars.com/films/star-wars-episod...</td>\n",
       "      <td>J.J. Abrams</td>\n",
       "      <td>Every generation has a story.</td>\n",
       "      <td>...</td>\n",
       "      <td>Thirty years after defeating the Galactic Empi...</td>\n",
       "      <td>136</td>\n",
       "      <td>Action|Adventure|Science Fiction|Fantasy</td>\n",
       "      <td>Lucasfilm|Truenorth Productions|Bad Robot</td>\n",
       "      <td>12/15/15</td>\n",
       "      <td>5292</td>\n",
       "      <td>7.5</td>\n",
       "      <td>2015</td>\n",
       "      <td>1.839999e+08</td>\n",
       "      <td>1.902723e+09</td>\n",
       "    </tr>\n",
       "    <tr>\n",
       "      <th>4</th>\n",
       "      <td>168259</td>\n",
       "      <td>tt2820852</td>\n",
       "      <td>9.335014</td>\n",
       "      <td>190000000</td>\n",
       "      <td>1506249360</td>\n",
       "      <td>Furious 7</td>\n",
       "      <td>Vin Diesel|Paul Walker|Jason Statham|Michelle ...</td>\n",
       "      <td>http://www.furious7.com/</td>\n",
       "      <td>James Wan</td>\n",
       "      <td>Vengeance Hits Home</td>\n",
       "      <td>...</td>\n",
       "      <td>Deckard Shaw seeks revenge against Dominic Tor...</td>\n",
       "      <td>137</td>\n",
       "      <td>Action|Crime|Thriller</td>\n",
       "      <td>Universal Pictures|Original Film|Media Rights ...</td>\n",
       "      <td>4/1/15</td>\n",
       "      <td>2947</td>\n",
       "      <td>7.3</td>\n",
       "      <td>2015</td>\n",
       "      <td>1.747999e+08</td>\n",
       "      <td>1.385749e+09</td>\n",
       "    </tr>\n",
       "  </tbody>\n",
       "</table>\n",
       "<p>5 rows × 21 columns</p>\n",
       "</div>"
      ],
      "text/plain": [
       "       id    imdb_id  popularity     budget     revenue  \\\n",
       "0  135397  tt0369610   32.985763  150000000  1513528810   \n",
       "1   76341  tt1392190   28.419936  150000000   378436354   \n",
       "2  262500  tt2908446   13.112507  110000000   295238201   \n",
       "3  140607  tt2488496   11.173104  200000000  2068178225   \n",
       "4  168259  tt2820852    9.335014  190000000  1506249360   \n",
       "\n",
       "                 original_title  \\\n",
       "0                Jurassic World   \n",
       "1            Mad Max: Fury Road   \n",
       "2                     Insurgent   \n",
       "3  Star Wars: The Force Awakens   \n",
       "4                     Furious 7   \n",
       "\n",
       "                                                cast  \\\n",
       "0  Chris Pratt|Bryce Dallas Howard|Irrfan Khan|Vi...   \n",
       "1  Tom Hardy|Charlize Theron|Hugh Keays-Byrne|Nic...   \n",
       "2  Shailene Woodley|Theo James|Kate Winslet|Ansel...   \n",
       "3  Harrison Ford|Mark Hamill|Carrie Fisher|Adam D...   \n",
       "4  Vin Diesel|Paul Walker|Jason Statham|Michelle ...   \n",
       "\n",
       "                                            homepage          director  \\\n",
       "0                      http://www.jurassicworld.com/   Colin Trevorrow   \n",
       "1                        http://www.madmaxmovie.com/     George Miller   \n",
       "2     http://www.thedivergentseries.movie/#insurgent  Robert Schwentke   \n",
       "3  http://www.starwars.com/films/star-wars-episod...       J.J. Abrams   \n",
       "4                           http://www.furious7.com/         James Wan   \n",
       "\n",
       "                         tagline      ...       \\\n",
       "0              The park is open.      ...        \n",
       "1             What a Lovely Day.      ...        \n",
       "2     One Choice Can Destroy You      ...        \n",
       "3  Every generation has a story.      ...        \n",
       "4            Vengeance Hits Home      ...        \n",
       "\n",
       "                                            overview runtime  \\\n",
       "0  Twenty-two years after the events of Jurassic ...     124   \n",
       "1  An apocalyptic story set in the furthest reach...     120   \n",
       "2  Beatrice Prior must confront her inner demons ...     119   \n",
       "3  Thirty years after defeating the Galactic Empi...     136   \n",
       "4  Deckard Shaw seeks revenge against Dominic Tor...     137   \n",
       "\n",
       "                                      genres  \\\n",
       "0  Action|Adventure|Science Fiction|Thriller   \n",
       "1  Action|Adventure|Science Fiction|Thriller   \n",
       "2         Adventure|Science Fiction|Thriller   \n",
       "3   Action|Adventure|Science Fiction|Fantasy   \n",
       "4                      Action|Crime|Thriller   \n",
       "\n",
       "                                production_companies release_date vote_count  \\\n",
       "0  Universal Studios|Amblin Entertainment|Legenda...       6/9/15       5562   \n",
       "1  Village Roadshow Pictures|Kennedy Miller Produ...      5/13/15       6185   \n",
       "2  Summit Entertainment|Mandeville Films|Red Wago...      3/18/15       2480   \n",
       "3          Lucasfilm|Truenorth Productions|Bad Robot     12/15/15       5292   \n",
       "4  Universal Pictures|Original Film|Media Rights ...       4/1/15       2947   \n",
       "\n",
       "   vote_average  release_year    budget_adj   revenue_adj  \n",
       "0           6.5          2015  1.379999e+08  1.392446e+09  \n",
       "1           7.1          2015  1.379999e+08  3.481613e+08  \n",
       "2           6.3          2015  1.012000e+08  2.716190e+08  \n",
       "3           7.5          2015  1.839999e+08  1.902723e+09  \n",
       "4           7.3          2015  1.747999e+08  1.385749e+09  \n",
       "\n",
       "[5 rows x 21 columns]"
      ]
     },
     "execution_count": 96,
     "metadata": {},
     "output_type": "execute_result"
    }
   ],
   "source": [
    "# Load data and print a few lines\n",
    "df = pd.read_csv('tmdb-movies.csv')\n",
    "df.head()"
   ]
  },
  {
   "cell_type": "markdown",
   "metadata": {},
   "source": [
    "For the purposes of this investigation, the columns for id, imdb_id, cast, homepage, director, tagline, overview, production_companies, keywords, runtime, and release_date are not insightful and will thus be removed for the sake of clarity. In addition, the columns for budget and revenue will be dropped in favor of their adjusted variants for a fair comparison. "
   ]
  },
  {
   "cell_type": "code",
   "execution_count": 97,
   "metadata": {},
   "outputs": [],
   "source": [
    "#remove columns for data that is not needed here\n",
    "df.drop(['id', 'imdb_id', 'cast', 'homepage', 'director', 'tagline', 'overview', 'production_companies', 'release_date', 'keywords', 'budget', 'revenue','runtime'], axis= 1, inplace= True)"
   ]
  },
  {
   "cell_type": "code",
   "execution_count": 98,
   "metadata": {},
   "outputs": [
    {
     "data": {
      "text/html": [
       "<div>\n",
       "<style scoped>\n",
       "    .dataframe tbody tr th:only-of-type {\n",
       "        vertical-align: middle;\n",
       "    }\n",
       "\n",
       "    .dataframe tbody tr th {\n",
       "        vertical-align: top;\n",
       "    }\n",
       "\n",
       "    .dataframe thead th {\n",
       "        text-align: right;\n",
       "    }\n",
       "</style>\n",
       "<table border=\"1\" class=\"dataframe\">\n",
       "  <thead>\n",
       "    <tr style=\"text-align: right;\">\n",
       "      <th></th>\n",
       "      <th>popularity</th>\n",
       "      <th>original_title</th>\n",
       "      <th>genres</th>\n",
       "      <th>vote_count</th>\n",
       "      <th>vote_average</th>\n",
       "      <th>release_year</th>\n",
       "      <th>budget_adj</th>\n",
       "      <th>revenue_adj</th>\n",
       "    </tr>\n",
       "  </thead>\n",
       "  <tbody>\n",
       "    <tr>\n",
       "      <th>0</th>\n",
       "      <td>32.985763</td>\n",
       "      <td>Jurassic World</td>\n",
       "      <td>Action|Adventure|Science Fiction|Thriller</td>\n",
       "      <td>5562</td>\n",
       "      <td>6.5</td>\n",
       "      <td>2015</td>\n",
       "      <td>1.379999e+08</td>\n",
       "      <td>1.392446e+09</td>\n",
       "    </tr>\n",
       "    <tr>\n",
       "      <th>1</th>\n",
       "      <td>28.419936</td>\n",
       "      <td>Mad Max: Fury Road</td>\n",
       "      <td>Action|Adventure|Science Fiction|Thriller</td>\n",
       "      <td>6185</td>\n",
       "      <td>7.1</td>\n",
       "      <td>2015</td>\n",
       "      <td>1.379999e+08</td>\n",
       "      <td>3.481613e+08</td>\n",
       "    </tr>\n",
       "    <tr>\n",
       "      <th>2</th>\n",
       "      <td>13.112507</td>\n",
       "      <td>Insurgent</td>\n",
       "      <td>Adventure|Science Fiction|Thriller</td>\n",
       "      <td>2480</td>\n",
       "      <td>6.3</td>\n",
       "      <td>2015</td>\n",
       "      <td>1.012000e+08</td>\n",
       "      <td>2.716190e+08</td>\n",
       "    </tr>\n",
       "    <tr>\n",
       "      <th>3</th>\n",
       "      <td>11.173104</td>\n",
       "      <td>Star Wars: The Force Awakens</td>\n",
       "      <td>Action|Adventure|Science Fiction|Fantasy</td>\n",
       "      <td>5292</td>\n",
       "      <td>7.5</td>\n",
       "      <td>2015</td>\n",
       "      <td>1.839999e+08</td>\n",
       "      <td>1.902723e+09</td>\n",
       "    </tr>\n",
       "    <tr>\n",
       "      <th>4</th>\n",
       "      <td>9.335014</td>\n",
       "      <td>Furious 7</td>\n",
       "      <td>Action|Crime|Thriller</td>\n",
       "      <td>2947</td>\n",
       "      <td>7.3</td>\n",
       "      <td>2015</td>\n",
       "      <td>1.747999e+08</td>\n",
       "      <td>1.385749e+09</td>\n",
       "    </tr>\n",
       "  </tbody>\n",
       "</table>\n",
       "</div>"
      ],
      "text/plain": [
       "   popularity                original_title  \\\n",
       "0   32.985763                Jurassic World   \n",
       "1   28.419936            Mad Max: Fury Road   \n",
       "2   13.112507                     Insurgent   \n",
       "3   11.173104  Star Wars: The Force Awakens   \n",
       "4    9.335014                     Furious 7   \n",
       "\n",
       "                                      genres  vote_count  vote_average  \\\n",
       "0  Action|Adventure|Science Fiction|Thriller        5562           6.5   \n",
       "1  Action|Adventure|Science Fiction|Thriller        6185           7.1   \n",
       "2         Adventure|Science Fiction|Thriller        2480           6.3   \n",
       "3   Action|Adventure|Science Fiction|Fantasy        5292           7.5   \n",
       "4                      Action|Crime|Thriller        2947           7.3   \n",
       "\n",
       "   release_year    budget_adj   revenue_adj  \n",
       "0          2015  1.379999e+08  1.392446e+09  \n",
       "1          2015  1.379999e+08  3.481613e+08  \n",
       "2          2015  1.012000e+08  2.716190e+08  \n",
       "3          2015  1.839999e+08  1.902723e+09  \n",
       "4          2015  1.747999e+08  1.385749e+09  "
      ]
     },
     "execution_count": 98,
     "metadata": {},
     "output_type": "execute_result"
    }
   ],
   "source": [
    "df.head()"
   ]
  },
  {
   "cell_type": "code",
   "execution_count": 99,
   "metadata": {},
   "outputs": [
    {
     "data": {
      "text/plain": [
       "(10866, 8)"
      ]
     },
     "execution_count": 99,
     "metadata": {},
     "output_type": "execute_result"
    }
   ],
   "source": [
    "df.shape"
   ]
  },
  {
   "cell_type": "markdown",
   "metadata": {},
   "source": [
    "There are 10,866 movies in this data set."
   ]
  },
  {
   "cell_type": "code",
   "execution_count": 100,
   "metadata": {},
   "outputs": [
    {
     "data": {
      "text/html": [
       "<div>\n",
       "<style scoped>\n",
       "    .dataframe tbody tr th:only-of-type {\n",
       "        vertical-align: middle;\n",
       "    }\n",
       "\n",
       "    .dataframe tbody tr th {\n",
       "        vertical-align: top;\n",
       "    }\n",
       "\n",
       "    .dataframe thead th {\n",
       "        text-align: right;\n",
       "    }\n",
       "</style>\n",
       "<table border=\"1\" class=\"dataframe\">\n",
       "  <thead>\n",
       "    <tr style=\"text-align: right;\">\n",
       "      <th></th>\n",
       "      <th>popularity</th>\n",
       "      <th>vote_count</th>\n",
       "      <th>vote_average</th>\n",
       "      <th>release_year</th>\n",
       "      <th>budget_adj</th>\n",
       "      <th>revenue_adj</th>\n",
       "    </tr>\n",
       "  </thead>\n",
       "  <tbody>\n",
       "    <tr>\n",
       "      <th>count</th>\n",
       "      <td>10866.000000</td>\n",
       "      <td>10866.000000</td>\n",
       "      <td>10866.000000</td>\n",
       "      <td>10866.000000</td>\n",
       "      <td>1.086600e+04</td>\n",
       "      <td>1.086600e+04</td>\n",
       "    </tr>\n",
       "    <tr>\n",
       "      <th>mean</th>\n",
       "      <td>0.646441</td>\n",
       "      <td>217.389748</td>\n",
       "      <td>5.974922</td>\n",
       "      <td>2001.322658</td>\n",
       "      <td>1.755104e+07</td>\n",
       "      <td>5.136436e+07</td>\n",
       "    </tr>\n",
       "    <tr>\n",
       "      <th>std</th>\n",
       "      <td>1.000185</td>\n",
       "      <td>575.619058</td>\n",
       "      <td>0.935142</td>\n",
       "      <td>12.812941</td>\n",
       "      <td>3.430616e+07</td>\n",
       "      <td>1.446325e+08</td>\n",
       "    </tr>\n",
       "    <tr>\n",
       "      <th>min</th>\n",
       "      <td>0.000065</td>\n",
       "      <td>10.000000</td>\n",
       "      <td>1.500000</td>\n",
       "      <td>1960.000000</td>\n",
       "      <td>0.000000e+00</td>\n",
       "      <td>0.000000e+00</td>\n",
       "    </tr>\n",
       "    <tr>\n",
       "      <th>25%</th>\n",
       "      <td>0.207583</td>\n",
       "      <td>17.000000</td>\n",
       "      <td>5.400000</td>\n",
       "      <td>1995.000000</td>\n",
       "      <td>0.000000e+00</td>\n",
       "      <td>0.000000e+00</td>\n",
       "    </tr>\n",
       "    <tr>\n",
       "      <th>50%</th>\n",
       "      <td>0.383856</td>\n",
       "      <td>38.000000</td>\n",
       "      <td>6.000000</td>\n",
       "      <td>2006.000000</td>\n",
       "      <td>0.000000e+00</td>\n",
       "      <td>0.000000e+00</td>\n",
       "    </tr>\n",
       "    <tr>\n",
       "      <th>75%</th>\n",
       "      <td>0.713817</td>\n",
       "      <td>145.750000</td>\n",
       "      <td>6.600000</td>\n",
       "      <td>2011.000000</td>\n",
       "      <td>2.085325e+07</td>\n",
       "      <td>3.369710e+07</td>\n",
       "    </tr>\n",
       "    <tr>\n",
       "      <th>max</th>\n",
       "      <td>32.985763</td>\n",
       "      <td>9767.000000</td>\n",
       "      <td>9.200000</td>\n",
       "      <td>2015.000000</td>\n",
       "      <td>4.250000e+08</td>\n",
       "      <td>2.827124e+09</td>\n",
       "    </tr>\n",
       "  </tbody>\n",
       "</table>\n",
       "</div>"
      ],
      "text/plain": [
       "         popularity    vote_count  vote_average  release_year    budget_adj  \\\n",
       "count  10866.000000  10866.000000  10866.000000  10866.000000  1.086600e+04   \n",
       "mean       0.646441    217.389748      5.974922   2001.322658  1.755104e+07   \n",
       "std        1.000185    575.619058      0.935142     12.812941  3.430616e+07   \n",
       "min        0.000065     10.000000      1.500000   1960.000000  0.000000e+00   \n",
       "25%        0.207583     17.000000      5.400000   1995.000000  0.000000e+00   \n",
       "50%        0.383856     38.000000      6.000000   2006.000000  0.000000e+00   \n",
       "75%        0.713817    145.750000      6.600000   2011.000000  2.085325e+07   \n",
       "max       32.985763   9767.000000      9.200000   2015.000000  4.250000e+08   \n",
       "\n",
       "        revenue_adj  \n",
       "count  1.086600e+04  \n",
       "mean   5.136436e+07  \n",
       "std    1.446325e+08  \n",
       "min    0.000000e+00  \n",
       "25%    0.000000e+00  \n",
       "50%    0.000000e+00  \n",
       "75%    3.369710e+07  \n",
       "max    2.827124e+09  "
      ]
     },
     "execution_count": 100,
     "metadata": {},
     "output_type": "execute_result"
    }
   ],
   "source": [
    "df.describe()"
   ]
  },
  {
   "cell_type": "markdown",
   "metadata": {},
   "source": [
    "Most movies appear to have 0 as the adjusted budget and adjusted revenue. These must be removed to not skew the analysis, thus limiting the sample size."
   ]
  },
  {
   "cell_type": "code",
   "execution_count": 101,
   "metadata": {},
   "outputs": [],
   "source": [
    "#keep only rows where both adjusted budget and revenue are not 0\n",
    "df = df[df.budget_adj != 0]\n",
    "df = df[df.revenue_adj != 0]"
   ]
  },
  {
   "cell_type": "code",
   "execution_count": 102,
   "metadata": {},
   "outputs": [
    {
     "data": {
      "text/plain": [
       "(3855, 8)"
      ]
     },
     "execution_count": 102,
     "metadata": {},
     "output_type": "execute_result"
    }
   ],
   "source": [
    "df.shape"
   ]
  },
  {
   "cell_type": "markdown",
   "metadata": {},
   "source": [
    "Sample size has gone from 10,866 movies to 3,855, but there are is still a good number of movies to analyze."
   ]
  },
  {
   "cell_type": "code",
   "execution_count": 103,
   "metadata": {},
   "outputs": [
    {
     "data": {
      "text/html": [
       "<div>\n",
       "<style scoped>\n",
       "    .dataframe tbody tr th:only-of-type {\n",
       "        vertical-align: middle;\n",
       "    }\n",
       "\n",
       "    .dataframe tbody tr th {\n",
       "        vertical-align: top;\n",
       "    }\n",
       "\n",
       "    .dataframe thead th {\n",
       "        text-align: right;\n",
       "    }\n",
       "</style>\n",
       "<table border=\"1\" class=\"dataframe\">\n",
       "  <thead>\n",
       "    <tr style=\"text-align: right;\">\n",
       "      <th></th>\n",
       "      <th>popularity</th>\n",
       "      <th>vote_count</th>\n",
       "      <th>vote_average</th>\n",
       "      <th>release_year</th>\n",
       "      <th>budget_adj</th>\n",
       "      <th>revenue_adj</th>\n",
       "    </tr>\n",
       "  </thead>\n",
       "  <tbody>\n",
       "    <tr>\n",
       "      <th>count</th>\n",
       "      <td>3855.000000</td>\n",
       "      <td>3855.000000</td>\n",
       "      <td>3855.00000</td>\n",
       "      <td>3855.000000</td>\n",
       "      <td>3.855000e+03</td>\n",
       "      <td>3.855000e+03</td>\n",
       "    </tr>\n",
       "    <tr>\n",
       "      <th>mean</th>\n",
       "      <td>1.191400</td>\n",
       "      <td>527.611933</td>\n",
       "      <td>6.16786</td>\n",
       "      <td>2001.263294</td>\n",
       "      <td>4.423630e+07</td>\n",
       "      <td>1.370294e+08</td>\n",
       "    </tr>\n",
       "    <tr>\n",
       "      <th>std</th>\n",
       "      <td>1.475002</td>\n",
       "      <td>879.868374</td>\n",
       "      <td>0.79504</td>\n",
       "      <td>11.281989</td>\n",
       "      <td>4.480403e+07</td>\n",
       "      <td>2.160944e+08</td>\n",
       "    </tr>\n",
       "    <tr>\n",
       "      <th>min</th>\n",
       "      <td>0.001117</td>\n",
       "      <td>10.000000</td>\n",
       "      <td>2.20000</td>\n",
       "      <td>1960.000000</td>\n",
       "      <td>9.693980e-01</td>\n",
       "      <td>2.370705e+00</td>\n",
       "    </tr>\n",
       "    <tr>\n",
       "      <th>25%</th>\n",
       "      <td>0.462448</td>\n",
       "      <td>71.000000</td>\n",
       "      <td>5.70000</td>\n",
       "      <td>1995.000000</td>\n",
       "      <td>1.309053e+07</td>\n",
       "      <td>1.834123e+07</td>\n",
       "    </tr>\n",
       "    <tr>\n",
       "      <th>50%</th>\n",
       "      <td>0.797298</td>\n",
       "      <td>204.000000</td>\n",
       "      <td>6.20000</td>\n",
       "      <td>2004.000000</td>\n",
       "      <td>3.001558e+07</td>\n",
       "      <td>6.171861e+07</td>\n",
       "    </tr>\n",
       "    <tr>\n",
       "      <th>75%</th>\n",
       "      <td>1.368245</td>\n",
       "      <td>580.000000</td>\n",
       "      <td>6.70000</td>\n",
       "      <td>2010.000000</td>\n",
       "      <td>6.061307e+07</td>\n",
       "      <td>1.632401e+08</td>\n",
       "    </tr>\n",
       "    <tr>\n",
       "      <th>max</th>\n",
       "      <td>32.985763</td>\n",
       "      <td>9767.000000</td>\n",
       "      <td>8.40000</td>\n",
       "      <td>2015.000000</td>\n",
       "      <td>4.250000e+08</td>\n",
       "      <td>2.827124e+09</td>\n",
       "    </tr>\n",
       "  </tbody>\n",
       "</table>\n",
       "</div>"
      ],
      "text/plain": [
       "        popularity   vote_count  vote_average  release_year    budget_adj  \\\n",
       "count  3855.000000  3855.000000    3855.00000   3855.000000  3.855000e+03   \n",
       "mean      1.191400   527.611933       6.16786   2001.263294  4.423630e+07   \n",
       "std       1.475002   879.868374       0.79504     11.281989  4.480403e+07   \n",
       "min       0.001117    10.000000       2.20000   1960.000000  9.693980e-01   \n",
       "25%       0.462448    71.000000       5.70000   1995.000000  1.309053e+07   \n",
       "50%       0.797298   204.000000       6.20000   2004.000000  3.001558e+07   \n",
       "75%       1.368245   580.000000       6.70000   2010.000000  6.061307e+07   \n",
       "max      32.985763  9767.000000       8.40000   2015.000000  4.250000e+08   \n",
       "\n",
       "        revenue_adj  \n",
       "count  3.855000e+03  \n",
       "mean   1.370294e+08  \n",
       "std    2.160944e+08  \n",
       "min    2.370705e+00  \n",
       "25%    1.834123e+07  \n",
       "50%    6.171861e+07  \n",
       "75%    1.632401e+08  \n",
       "max    2.827124e+09  "
      ]
     },
     "execution_count": 103,
     "metadata": {},
     "output_type": "execute_result"
    }
   ],
   "source": [
    "df.describe()"
   ]
  },
  {
   "cell_type": "markdown",
   "metadata": {},
   "source": [
    "The minimum adjusted budget is less than \\\\$1 and the minimum adjusted revenue is \\\\$2.37. These values seem unrealistic."
   ]
  },
  {
   "cell_type": "code",
   "execution_count": 104,
   "metadata": {},
   "outputs": [
    {
     "data": {
      "text/html": [
       "<div>\n",
       "<style scoped>\n",
       "    .dataframe tbody tr th:only-of-type {\n",
       "        vertical-align: middle;\n",
       "    }\n",
       "\n",
       "    .dataframe tbody tr th {\n",
       "        vertical-align: top;\n",
       "    }\n",
       "\n",
       "    .dataframe thead th {\n",
       "        text-align: right;\n",
       "    }\n",
       "</style>\n",
       "<table border=\"1\" class=\"dataframe\">\n",
       "  <thead>\n",
       "    <tr style=\"text-align: right;\">\n",
       "      <th></th>\n",
       "      <th>popularity</th>\n",
       "      <th>original_title</th>\n",
       "      <th>genres</th>\n",
       "      <th>vote_count</th>\n",
       "      <th>vote_average</th>\n",
       "      <th>release_year</th>\n",
       "      <th>budget_adj</th>\n",
       "      <th>revenue_adj</th>\n",
       "    </tr>\n",
       "  </thead>\n",
       "  <tbody>\n",
       "    <tr>\n",
       "      <th>1733</th>\n",
       "      <td>0.278387</td>\n",
       "      <td>Wanted</td>\n",
       "      <td>Action|Comedy|Crime|Thriller</td>\n",
       "      <td>18</td>\n",
       "      <td>4.9</td>\n",
       "      <td>2009</td>\n",
       "      <td>76.230033</td>\n",
       "      <td>1.361977e+02</td>\n",
       "    </tr>\n",
       "    <tr>\n",
       "      <th>2398</th>\n",
       "      <td>0.028456</td>\n",
       "      <td>Boy</td>\n",
       "      <td>Drama|Comedy</td>\n",
       "      <td>26</td>\n",
       "      <td>7.3</td>\n",
       "      <td>2010</td>\n",
       "      <td>3.000000</td>\n",
       "      <td>4.300000e+01</td>\n",
       "    </tr>\n",
       "    <tr>\n",
       "      <th>2519</th>\n",
       "      <td>0.352060</td>\n",
       "      <td>Angela's Ashes</td>\n",
       "      <td>Drama</td>\n",
       "      <td>24</td>\n",
       "      <td>7.0</td>\n",
       "      <td>1999</td>\n",
       "      <td>32.726321</td>\n",
       "      <td>1.701769e+01</td>\n",
       "    </tr>\n",
       "    <tr>\n",
       "      <th>2618</th>\n",
       "      <td>0.090186</td>\n",
       "      <td>Lost &amp; Found</td>\n",
       "      <td>Comedy|Romance</td>\n",
       "      <td>14</td>\n",
       "      <td>4.8</td>\n",
       "      <td>1999</td>\n",
       "      <td>1.309053</td>\n",
       "      <td>1.309053e+02</td>\n",
       "    </tr>\n",
       "    <tr>\n",
       "      <th>3581</th>\n",
       "      <td>0.520430</td>\n",
       "      <td>Love, Wedding, Marriage</td>\n",
       "      <td>Comedy|Romance</td>\n",
       "      <td>55</td>\n",
       "      <td>5.3</td>\n",
       "      <td>2011</td>\n",
       "      <td>0.969398</td>\n",
       "      <td>1.335831e+03</td>\n",
       "    </tr>\n",
       "    <tr>\n",
       "      <th>3608</th>\n",
       "      <td>0.463510</td>\n",
       "      <td>From Prada to Nada</td>\n",
       "      <td>Comedy|Drama|Romance</td>\n",
       "      <td>47</td>\n",
       "      <td>5.2</td>\n",
       "      <td>2011</td>\n",
       "      <td>90.154018</td>\n",
       "      <td>2.423495e+06</td>\n",
       "    </tr>\n",
       "    <tr>\n",
       "      <th>3853</th>\n",
       "      <td>0.098896</td>\n",
       "      <td>William &amp; Kate</td>\n",
       "      <td>Drama|Romance</td>\n",
       "      <td>18</td>\n",
       "      <td>5.9</td>\n",
       "      <td>2011</td>\n",
       "      <td>19.387961</td>\n",
       "      <td>1.454097e+01</td>\n",
       "    </tr>\n",
       "    <tr>\n",
       "      <th>3968</th>\n",
       "      <td>0.958182</td>\n",
       "      <td>The Sum of All Fears</td>\n",
       "      <td>Thriller|Action|Drama</td>\n",
       "      <td>256</td>\n",
       "      <td>5.7</td>\n",
       "      <td>2002</td>\n",
       "      <td>82.433775</td>\n",
       "      <td>2.339664e+02</td>\n",
       "    </tr>\n",
       "    <tr>\n",
       "      <th>4675</th>\n",
       "      <td>0.316117</td>\n",
       "      <td>Joyful Noise</td>\n",
       "      <td>Comedy|Music</td>\n",
       "      <td>25</td>\n",
       "      <td>6.7</td>\n",
       "      <td>2012</td>\n",
       "      <td>23.743607</td>\n",
       "      <td>2.849233e+01</td>\n",
       "    </tr>\n",
       "    <tr>\n",
       "      <th>5162</th>\n",
       "      <td>0.208637</td>\n",
       "      <td>Kid's Story</td>\n",
       "      <td>Science Fiction|Animation</td>\n",
       "      <td>16</td>\n",
       "      <td>6.8</td>\n",
       "      <td>2003</td>\n",
       "      <td>11.853526</td>\n",
       "      <td>5.926763e+00</td>\n",
       "    </tr>\n",
       "    <tr>\n",
       "      <th>5785</th>\n",
       "      <td>0.296763</td>\n",
       "      <td>Make Your Move</td>\n",
       "      <td>Music</td>\n",
       "      <td>20</td>\n",
       "      <td>5.9</td>\n",
       "      <td>2013</td>\n",
       "      <td>14.040500</td>\n",
       "      <td>1.141961e+02</td>\n",
       "    </tr>\n",
       "    <tr>\n",
       "      <th>5852</th>\n",
       "      <td>0.222776</td>\n",
       "      <td>Hross Ã­ oss</td>\n",
       "      <td>Drama|Romance|Comedy</td>\n",
       "      <td>11</td>\n",
       "      <td>6.5</td>\n",
       "      <td>2013</td>\n",
       "      <td>9.360334</td>\n",
       "      <td>1.029637e+01</td>\n",
       "    </tr>\n",
       "    <tr>\n",
       "      <th>6179</th>\n",
       "      <td>0.132713</td>\n",
       "      <td>Into the Night</td>\n",
       "      <td>Comedy|Drama|Thriller</td>\n",
       "      <td>24</td>\n",
       "      <td>6.1</td>\n",
       "      <td>1985</td>\n",
       "      <td>231.096930</td>\n",
       "      <td>1.358201e+07</td>\n",
       "    </tr>\n",
       "    <tr>\n",
       "      <th>8125</th>\n",
       "      <td>0.705828</td>\n",
       "      <td>The Prophecy</td>\n",
       "      <td>Fantasy|Horror|Thriller</td>\n",
       "      <td>54</td>\n",
       "      <td>5.5</td>\n",
       "      <td>1995</td>\n",
       "      <td>11.447735</td>\n",
       "      <td>2.289547e+01</td>\n",
       "    </tr>\n",
       "    <tr>\n",
       "      <th>8235</th>\n",
       "      <td>0.105894</td>\n",
       "      <td>Tales from the Hood</td>\n",
       "      <td>Horror|Thriller</td>\n",
       "      <td>13</td>\n",
       "      <td>5.1</td>\n",
       "      <td>1995</td>\n",
       "      <td>8.585801</td>\n",
       "      <td>1.574064e+01</td>\n",
       "    </tr>\n",
       "    <tr>\n",
       "      <th>8944</th>\n",
       "      <td>0.464188</td>\n",
       "      <td>Death Wish 2</td>\n",
       "      <td>Action|Crime|Thriller</td>\n",
       "      <td>27</td>\n",
       "      <td>5.6</td>\n",
       "      <td>1982</td>\n",
       "      <td>4.519285</td>\n",
       "      <td>3.615428e+01</td>\n",
       "    </tr>\n",
       "    <tr>\n",
       "      <th>9992</th>\n",
       "      <td>1.072912</td>\n",
       "      <td>The Hunt for Red October</td>\n",
       "      <td>Action|Adventure|Thriller</td>\n",
       "      <td>615</td>\n",
       "      <td>6.9</td>\n",
       "      <td>1990</td>\n",
       "      <td>50.066956</td>\n",
       "      <td>3.337797e+02</td>\n",
       "    </tr>\n",
       "    <tr>\n",
       "      <th>10050</th>\n",
       "      <td>0.317091</td>\n",
       "      <td>Tales from the Darkside: The Movie</td>\n",
       "      <td>Fantasy|Horror|Comedy</td>\n",
       "      <td>37</td>\n",
       "      <td>5.8</td>\n",
       "      <td>1990</td>\n",
       "      <td>5.006696</td>\n",
       "      <td>2.670238e+01</td>\n",
       "    </tr>\n",
       "    <tr>\n",
       "      <th>10236</th>\n",
       "      <td>1.024955</td>\n",
       "      <td>Teenage Mutant Ninja Turtles III</td>\n",
       "      <td>Action|Adventure|Comedy|Family|Fantasy</td>\n",
       "      <td>95</td>\n",
       "      <td>5.2</td>\n",
       "      <td>1993</td>\n",
       "      <td>31.698869</td>\n",
       "      <td>6.339774e+01</td>\n",
       "    </tr>\n",
       "    <tr>\n",
       "      <th>10297</th>\n",
       "      <td>0.490013</td>\n",
       "      <td>National Lampoon's Loaded Weapon 1</td>\n",
       "      <td>Comedy</td>\n",
       "      <td>72</td>\n",
       "      <td>5.5</td>\n",
       "      <td>1993</td>\n",
       "      <td>12.075760</td>\n",
       "      <td>4.075569e+01</td>\n",
       "    </tr>\n",
       "    <tr>\n",
       "      <th>10495</th>\n",
       "      <td>0.772494</td>\n",
       "      <td>The Karate Kid, Part II</td>\n",
       "      <td>Adventure|Drama|Action|Romance|Family</td>\n",
       "      <td>211</td>\n",
       "      <td>5.8</td>\n",
       "      <td>1986</td>\n",
       "      <td>224.802924</td>\n",
       "      <td>2.289886e+08</td>\n",
       "    </tr>\n",
       "    <tr>\n",
       "      <th>10777</th>\n",
       "      <td>0.439210</td>\n",
       "      <td>F.I.S.T.</td>\n",
       "      <td>Drama|Action</td>\n",
       "      <td>13</td>\n",
       "      <td>6.7</td>\n",
       "      <td>1978</td>\n",
       "      <td>36.769708</td>\n",
       "      <td>3.676971e+01</td>\n",
       "    </tr>\n",
       "  </tbody>\n",
       "</table>\n",
       "</div>"
      ],
      "text/plain": [
       "       popularity                      original_title  \\\n",
       "1733     0.278387                              Wanted   \n",
       "2398     0.028456                                 Boy   \n",
       "2519     0.352060                      Angela's Ashes   \n",
       "2618     0.090186                        Lost & Found   \n",
       "3581     0.520430             Love, Wedding, Marriage   \n",
       "3608     0.463510                  From Prada to Nada   \n",
       "3853     0.098896                      William & Kate   \n",
       "3968     0.958182                The Sum of All Fears   \n",
       "4675     0.316117                        Joyful Noise   \n",
       "5162     0.208637                         Kid's Story   \n",
       "5785     0.296763                      Make Your Move   \n",
       "5852     0.222776                        Hross Ã­ oss   \n",
       "6179     0.132713                      Into the Night   \n",
       "8125     0.705828                        The Prophecy   \n",
       "8235     0.105894                 Tales from the Hood   \n",
       "8944     0.464188                        Death Wish 2   \n",
       "9992     1.072912            The Hunt for Red October   \n",
       "10050    0.317091  Tales from the Darkside: The Movie   \n",
       "10236    1.024955    Teenage Mutant Ninja Turtles III   \n",
       "10297    0.490013  National Lampoon's Loaded Weapon 1   \n",
       "10495    0.772494             The Karate Kid, Part II   \n",
       "10777    0.439210                            F.I.S.T.   \n",
       "\n",
       "                                       genres  vote_count  vote_average  \\\n",
       "1733             Action|Comedy|Crime|Thriller          18           4.9   \n",
       "2398                             Drama|Comedy          26           7.3   \n",
       "2519                                    Drama          24           7.0   \n",
       "2618                           Comedy|Romance          14           4.8   \n",
       "3581                           Comedy|Romance          55           5.3   \n",
       "3608                     Comedy|Drama|Romance          47           5.2   \n",
       "3853                            Drama|Romance          18           5.9   \n",
       "3968                    Thriller|Action|Drama         256           5.7   \n",
       "4675                             Comedy|Music          25           6.7   \n",
       "5162                Science Fiction|Animation          16           6.8   \n",
       "5785                                    Music          20           5.9   \n",
       "5852                     Drama|Romance|Comedy          11           6.5   \n",
       "6179                    Comedy|Drama|Thriller          24           6.1   \n",
       "8125                  Fantasy|Horror|Thriller          54           5.5   \n",
       "8235                          Horror|Thriller          13           5.1   \n",
       "8944                    Action|Crime|Thriller          27           5.6   \n",
       "9992                Action|Adventure|Thriller         615           6.9   \n",
       "10050                   Fantasy|Horror|Comedy          37           5.8   \n",
       "10236  Action|Adventure|Comedy|Family|Fantasy          95           5.2   \n",
       "10297                                  Comedy          72           5.5   \n",
       "10495   Adventure|Drama|Action|Romance|Family         211           5.8   \n",
       "10777                            Drama|Action          13           6.7   \n",
       "\n",
       "       release_year  budget_adj   revenue_adj  \n",
       "1733           2009   76.230033  1.361977e+02  \n",
       "2398           2010    3.000000  4.300000e+01  \n",
       "2519           1999   32.726321  1.701769e+01  \n",
       "2618           1999    1.309053  1.309053e+02  \n",
       "3581           2011    0.969398  1.335831e+03  \n",
       "3608           2011   90.154018  2.423495e+06  \n",
       "3853           2011   19.387961  1.454097e+01  \n",
       "3968           2002   82.433775  2.339664e+02  \n",
       "4675           2012   23.743607  2.849233e+01  \n",
       "5162           2003   11.853526  5.926763e+00  \n",
       "5785           2013   14.040500  1.141961e+02  \n",
       "5852           2013    9.360334  1.029637e+01  \n",
       "6179           1985  231.096930  1.358201e+07  \n",
       "8125           1995   11.447735  2.289547e+01  \n",
       "8235           1995    8.585801  1.574064e+01  \n",
       "8944           1982    4.519285  3.615428e+01  \n",
       "9992           1990   50.066956  3.337797e+02  \n",
       "10050          1990    5.006696  2.670238e+01  \n",
       "10236          1993   31.698869  6.339774e+01  \n",
       "10297          1993   12.075760  4.075569e+01  \n",
       "10495          1986  224.802924  2.289886e+08  \n",
       "10777          1978   36.769708  3.676971e+01  "
      ]
     },
     "execution_count": 104,
     "metadata": {},
     "output_type": "execute_result"
    }
   ],
   "source": [
    "#check rows that have budgets entered below \\\\$1000\n",
    "df[df.budget_adj < 1000]"
   ]
  },
  {
   "cell_type": "code",
   "execution_count": 105,
   "metadata": {},
   "outputs": [
    {
     "data": {
      "text/html": [
       "<div>\n",
       "<style scoped>\n",
       "    .dataframe tbody tr th:only-of-type {\n",
       "        vertical-align: middle;\n",
       "    }\n",
       "\n",
       "    .dataframe tbody tr th {\n",
       "        vertical-align: top;\n",
       "    }\n",
       "\n",
       "    .dataframe thead th {\n",
       "        text-align: right;\n",
       "    }\n",
       "</style>\n",
       "<table border=\"1\" class=\"dataframe\">\n",
       "  <thead>\n",
       "    <tr style=\"text-align: right;\">\n",
       "      <th></th>\n",
       "      <th>popularity</th>\n",
       "      <th>original_title</th>\n",
       "      <th>genres</th>\n",
       "      <th>vote_count</th>\n",
       "      <th>vote_average</th>\n",
       "      <th>release_year</th>\n",
       "      <th>budget_adj</th>\n",
       "      <th>revenue_adj</th>\n",
       "    </tr>\n",
       "  </thead>\n",
       "  <tbody>\n",
       "    <tr>\n",
       "      <th>1733</th>\n",
       "      <td>0.278387</td>\n",
       "      <td>Wanted</td>\n",
       "      <td>Action|Comedy|Crime|Thriller</td>\n",
       "      <td>18</td>\n",
       "      <td>4.9</td>\n",
       "      <td>2009</td>\n",
       "      <td>7.623003e+01</td>\n",
       "      <td>136.197658</td>\n",
       "    </tr>\n",
       "    <tr>\n",
       "      <th>2398</th>\n",
       "      <td>0.028456</td>\n",
       "      <td>Boy</td>\n",
       "      <td>Drama|Comedy</td>\n",
       "      <td>26</td>\n",
       "      <td>7.3</td>\n",
       "      <td>2010</td>\n",
       "      <td>3.000000e+00</td>\n",
       "      <td>43.000000</td>\n",
       "    </tr>\n",
       "    <tr>\n",
       "      <th>2519</th>\n",
       "      <td>0.352060</td>\n",
       "      <td>Angela's Ashes</td>\n",
       "      <td>Drama</td>\n",
       "      <td>24</td>\n",
       "      <td>7.0</td>\n",
       "      <td>1999</td>\n",
       "      <td>3.272632e+01</td>\n",
       "      <td>17.017687</td>\n",
       "    </tr>\n",
       "    <tr>\n",
       "      <th>2618</th>\n",
       "      <td>0.090186</td>\n",
       "      <td>Lost &amp; Found</td>\n",
       "      <td>Comedy|Romance</td>\n",
       "      <td>14</td>\n",
       "      <td>4.8</td>\n",
       "      <td>1999</td>\n",
       "      <td>1.309053e+00</td>\n",
       "      <td>130.905285</td>\n",
       "    </tr>\n",
       "    <tr>\n",
       "      <th>3239</th>\n",
       "      <td>0.352054</td>\n",
       "      <td>Dr. Horrible's Sing-Along Blog</td>\n",
       "      <td>Adventure|Action|Comedy|Science Fiction|Music</td>\n",
       "      <td>140</td>\n",
       "      <td>7.7</td>\n",
       "      <td>2008</td>\n",
       "      <td>2.025573e+05</td>\n",
       "      <td>3.038360</td>\n",
       "    </tr>\n",
       "    <tr>\n",
       "      <th>3853</th>\n",
       "      <td>0.098896</td>\n",
       "      <td>William &amp; Kate</td>\n",
       "      <td>Drama|Romance</td>\n",
       "      <td>18</td>\n",
       "      <td>5.9</td>\n",
       "      <td>2011</td>\n",
       "      <td>1.938796e+01</td>\n",
       "      <td>14.540971</td>\n",
       "    </tr>\n",
       "    <tr>\n",
       "      <th>3968</th>\n",
       "      <td>0.958182</td>\n",
       "      <td>The Sum of All Fears</td>\n",
       "      <td>Thriller|Action|Drama</td>\n",
       "      <td>256</td>\n",
       "      <td>5.7</td>\n",
       "      <td>2002</td>\n",
       "      <td>8.243377e+01</td>\n",
       "      <td>233.966449</td>\n",
       "    </tr>\n",
       "    <tr>\n",
       "      <th>4675</th>\n",
       "      <td>0.316117</td>\n",
       "      <td>Joyful Noise</td>\n",
       "      <td>Comedy|Music</td>\n",
       "      <td>25</td>\n",
       "      <td>6.7</td>\n",
       "      <td>2012</td>\n",
       "      <td>2.374361e+01</td>\n",
       "      <td>28.492328</td>\n",
       "    </tr>\n",
       "    <tr>\n",
       "      <th>4970</th>\n",
       "      <td>1.653031</td>\n",
       "      <td>Brother Bear</td>\n",
       "      <td>Animation|Adventure|Family|Fantasy</td>\n",
       "      <td>753</td>\n",
       "      <td>6.8</td>\n",
       "      <td>2003</td>\n",
       "      <td>1.185353e+08</td>\n",
       "      <td>296.338161</td>\n",
       "    </tr>\n",
       "    <tr>\n",
       "      <th>5060</th>\n",
       "      <td>0.481708</td>\n",
       "      <td>In the Cut</td>\n",
       "      <td>Thriller|Mystery</td>\n",
       "      <td>36</td>\n",
       "      <td>4.7</td>\n",
       "      <td>2003</td>\n",
       "      <td>1.422423e+07</td>\n",
       "      <td>27.263111</td>\n",
       "    </tr>\n",
       "    <tr>\n",
       "      <th>5067</th>\n",
       "      <td>0.462609</td>\n",
       "      <td>Shattered Glass</td>\n",
       "      <td>Drama|History</td>\n",
       "      <td>46</td>\n",
       "      <td>6.4</td>\n",
       "      <td>2003</td>\n",
       "      <td>7.112116e+06</td>\n",
       "      <td>2.370705</td>\n",
       "    </tr>\n",
       "    <tr>\n",
       "      <th>5162</th>\n",
       "      <td>0.208637</td>\n",
       "      <td>Kid's Story</td>\n",
       "      <td>Science Fiction|Animation</td>\n",
       "      <td>16</td>\n",
       "      <td>6.8</td>\n",
       "      <td>2003</td>\n",
       "      <td>1.185353e+01</td>\n",
       "      <td>5.926763</td>\n",
       "    </tr>\n",
       "    <tr>\n",
       "      <th>5785</th>\n",
       "      <td>0.296763</td>\n",
       "      <td>Make Your Move</td>\n",
       "      <td>Music</td>\n",
       "      <td>20</td>\n",
       "      <td>5.9</td>\n",
       "      <td>2013</td>\n",
       "      <td>1.404050e+01</td>\n",
       "      <td>114.196069</td>\n",
       "    </tr>\n",
       "    <tr>\n",
       "      <th>5852</th>\n",
       "      <td>0.222776</td>\n",
       "      <td>Hross Ã­ oss</td>\n",
       "      <td>Drama|Romance|Comedy</td>\n",
       "      <td>11</td>\n",
       "      <td>6.5</td>\n",
       "      <td>2013</td>\n",
       "      <td>9.360334e+00</td>\n",
       "      <td>10.296367</td>\n",
       "    </tr>\n",
       "    <tr>\n",
       "      <th>6707</th>\n",
       "      <td>0.536631</td>\n",
       "      <td>Charlotte's Web</td>\n",
       "      <td>Comedy|Family|Fantasy</td>\n",
       "      <td>161</td>\n",
       "      <td>6.0</td>\n",
       "      <td>2006</td>\n",
       "      <td>9.194188e+07</td>\n",
       "      <td>155.760359</td>\n",
       "    </tr>\n",
       "    <tr>\n",
       "      <th>7158</th>\n",
       "      <td>0.420568</td>\n",
       "      <td>Chasing Liberty</td>\n",
       "      <td>Comedy|Romance</td>\n",
       "      <td>86</td>\n",
       "      <td>6.2</td>\n",
       "      <td>2004</td>\n",
       "      <td>2.655224e+07</td>\n",
       "      <td>13.853345</td>\n",
       "    </tr>\n",
       "    <tr>\n",
       "      <th>7506</th>\n",
       "      <td>0.642207</td>\n",
       "      <td>Death at a Funeral</td>\n",
       "      <td>Comedy|Drama</td>\n",
       "      <td>262</td>\n",
       "      <td>6.7</td>\n",
       "      <td>2007</td>\n",
       "      <td>9.465017e+06</td>\n",
       "      <td>48.376755</td>\n",
       "    </tr>\n",
       "    <tr>\n",
       "      <th>8125</th>\n",
       "      <td>0.705828</td>\n",
       "      <td>The Prophecy</td>\n",
       "      <td>Fantasy|Horror|Thriller</td>\n",
       "      <td>54</td>\n",
       "      <td>5.5</td>\n",
       "      <td>1995</td>\n",
       "      <td>1.144773e+01</td>\n",
       "      <td>22.895470</td>\n",
       "    </tr>\n",
       "    <tr>\n",
       "      <th>8142</th>\n",
       "      <td>0.552091</td>\n",
       "      <td>Mallrats</td>\n",
       "      <td>Romance|Comedy</td>\n",
       "      <td>201</td>\n",
       "      <td>6.8</td>\n",
       "      <td>1995</td>\n",
       "      <td>8.585801e+06</td>\n",
       "      <td>2.861934</td>\n",
       "    </tr>\n",
       "    <tr>\n",
       "      <th>8226</th>\n",
       "      <td>0.183034</td>\n",
       "      <td>Never Talk to Strangers</td>\n",
       "      <td>Thriller|Romance</td>\n",
       "      <td>15</td>\n",
       "      <td>4.5</td>\n",
       "      <td>1995</td>\n",
       "      <td>9.158188e+06</td>\n",
       "      <td>8.585801</td>\n",
       "    </tr>\n",
       "    <tr>\n",
       "      <th>8235</th>\n",
       "      <td>0.105894</td>\n",
       "      <td>Tales from the Hood</td>\n",
       "      <td>Horror|Thriller</td>\n",
       "      <td>13</td>\n",
       "      <td>5.1</td>\n",
       "      <td>1995</td>\n",
       "      <td>8.585801e+00</td>\n",
       "      <td>15.740636</td>\n",
       "    </tr>\n",
       "    <tr>\n",
       "      <th>8523</th>\n",
       "      <td>0.578849</td>\n",
       "      <td>Bordello of Blood</td>\n",
       "      <td>Horror|Comedy</td>\n",
       "      <td>27</td>\n",
       "      <td>4.9</td>\n",
       "      <td>1996</td>\n",
       "      <td>2.085325e+07</td>\n",
       "      <td>6.951084</td>\n",
       "    </tr>\n",
       "    <tr>\n",
       "      <th>8944</th>\n",
       "      <td>0.464188</td>\n",
       "      <td>Death Wish 2</td>\n",
       "      <td>Action|Crime|Thriller</td>\n",
       "      <td>27</td>\n",
       "      <td>5.6</td>\n",
       "      <td>1982</td>\n",
       "      <td>4.519285e+00</td>\n",
       "      <td>36.154278</td>\n",
       "    </tr>\n",
       "    <tr>\n",
       "      <th>9332</th>\n",
       "      <td>0.799449</td>\n",
       "      <td>Teenage Mutant Ninja Turtles II: The Secret of...</td>\n",
       "      <td>Science Fiction|Adventure|Action|Comedy|Family</td>\n",
       "      <td>161</td>\n",
       "      <td>6.0</td>\n",
       "      <td>1991</td>\n",
       "      <td>4.002732e+07</td>\n",
       "      <td>124.885242</td>\n",
       "    </tr>\n",
       "    <tr>\n",
       "      <th>9992</th>\n",
       "      <td>1.072912</td>\n",
       "      <td>The Hunt for Red October</td>\n",
       "      <td>Action|Adventure|Thriller</td>\n",
       "      <td>615</td>\n",
       "      <td>6.9</td>\n",
       "      <td>1990</td>\n",
       "      <td>5.006696e+01</td>\n",
       "      <td>333.779708</td>\n",
       "    </tr>\n",
       "    <tr>\n",
       "      <th>10050</th>\n",
       "      <td>0.317091</td>\n",
       "      <td>Tales from the Darkside: The Movie</td>\n",
       "      <td>Fantasy|Horror|Comedy</td>\n",
       "      <td>37</td>\n",
       "      <td>5.8</td>\n",
       "      <td>1990</td>\n",
       "      <td>5.006696e+00</td>\n",
       "      <td>26.702377</td>\n",
       "    </tr>\n",
       "    <tr>\n",
       "      <th>10236</th>\n",
       "      <td>1.024955</td>\n",
       "      <td>Teenage Mutant Ninja Turtles III</td>\n",
       "      <td>Action|Adventure|Comedy|Family|Fantasy</td>\n",
       "      <td>95</td>\n",
       "      <td>5.2</td>\n",
       "      <td>1993</td>\n",
       "      <td>3.169887e+01</td>\n",
       "      <td>63.397738</td>\n",
       "    </tr>\n",
       "    <tr>\n",
       "      <th>10294</th>\n",
       "      <td>0.504169</td>\n",
       "      <td>Jason Goes to Hell: The Final Friday</td>\n",
       "      <td>Horror|Thriller</td>\n",
       "      <td>86</td>\n",
       "      <td>3.9</td>\n",
       "      <td>1993</td>\n",
       "      <td>4.528410e+06</td>\n",
       "      <td>22.642049</td>\n",
       "    </tr>\n",
       "    <tr>\n",
       "      <th>10297</th>\n",
       "      <td>0.490013</td>\n",
       "      <td>National Lampoon's Loaded Weapon 1</td>\n",
       "      <td>Comedy</td>\n",
       "      <td>72</td>\n",
       "      <td>5.5</td>\n",
       "      <td>1993</td>\n",
       "      <td>1.207576e+01</td>\n",
       "      <td>40.755689</td>\n",
       "    </tr>\n",
       "    <tr>\n",
       "      <th>10307</th>\n",
       "      <td>0.450208</td>\n",
       "      <td>The House of the Spirits</td>\n",
       "      <td>Romance|Drama</td>\n",
       "      <td>52</td>\n",
       "      <td>6.7</td>\n",
       "      <td>1993</td>\n",
       "      <td>3.773675e+07</td>\n",
       "      <td>9.056820</td>\n",
       "    </tr>\n",
       "    <tr>\n",
       "      <th>10777</th>\n",
       "      <td>0.439210</td>\n",
       "      <td>F.I.S.T.</td>\n",
       "      <td>Drama|Action</td>\n",
       "      <td>13</td>\n",
       "      <td>6.7</td>\n",
       "      <td>1978</td>\n",
       "      <td>3.676971e+01</td>\n",
       "      <td>36.769708</td>\n",
       "    </tr>\n",
       "  </tbody>\n",
       "</table>\n",
       "</div>"
      ],
      "text/plain": [
       "       popularity                                     original_title  \\\n",
       "1733     0.278387                                             Wanted   \n",
       "2398     0.028456                                                Boy   \n",
       "2519     0.352060                                     Angela's Ashes   \n",
       "2618     0.090186                                       Lost & Found   \n",
       "3239     0.352054                     Dr. Horrible's Sing-Along Blog   \n",
       "3853     0.098896                                     William & Kate   \n",
       "3968     0.958182                               The Sum of All Fears   \n",
       "4675     0.316117                                       Joyful Noise   \n",
       "4970     1.653031                                       Brother Bear   \n",
       "5060     0.481708                                         In the Cut   \n",
       "5067     0.462609                                    Shattered Glass   \n",
       "5162     0.208637                                        Kid's Story   \n",
       "5785     0.296763                                     Make Your Move   \n",
       "5852     0.222776                                       Hross Ã­ oss   \n",
       "6707     0.536631                                    Charlotte's Web   \n",
       "7158     0.420568                                    Chasing Liberty   \n",
       "7506     0.642207                                 Death at a Funeral   \n",
       "8125     0.705828                                       The Prophecy   \n",
       "8142     0.552091                                           Mallrats   \n",
       "8226     0.183034                            Never Talk to Strangers   \n",
       "8235     0.105894                                Tales from the Hood   \n",
       "8523     0.578849                                  Bordello of Blood   \n",
       "8944     0.464188                                       Death Wish 2   \n",
       "9332     0.799449  Teenage Mutant Ninja Turtles II: The Secret of...   \n",
       "9992     1.072912                           The Hunt for Red October   \n",
       "10050    0.317091                 Tales from the Darkside: The Movie   \n",
       "10236    1.024955                   Teenage Mutant Ninja Turtles III   \n",
       "10294    0.504169               Jason Goes to Hell: The Final Friday   \n",
       "10297    0.490013                 National Lampoon's Loaded Weapon 1   \n",
       "10307    0.450208                           The House of the Spirits   \n",
       "10777    0.439210                                           F.I.S.T.   \n",
       "\n",
       "                                               genres  vote_count  \\\n",
       "1733                     Action|Comedy|Crime|Thriller          18   \n",
       "2398                                     Drama|Comedy          26   \n",
       "2519                                            Drama          24   \n",
       "2618                                   Comedy|Romance          14   \n",
       "3239    Adventure|Action|Comedy|Science Fiction|Music         140   \n",
       "3853                                    Drama|Romance          18   \n",
       "3968                            Thriller|Action|Drama         256   \n",
       "4675                                     Comedy|Music          25   \n",
       "4970               Animation|Adventure|Family|Fantasy         753   \n",
       "5060                                 Thriller|Mystery          36   \n",
       "5067                                    Drama|History          46   \n",
       "5162                        Science Fiction|Animation          16   \n",
       "5785                                            Music          20   \n",
       "5852                             Drama|Romance|Comedy          11   \n",
       "6707                            Comedy|Family|Fantasy         161   \n",
       "7158                                   Comedy|Romance          86   \n",
       "7506                                     Comedy|Drama         262   \n",
       "8125                          Fantasy|Horror|Thriller          54   \n",
       "8142                                   Romance|Comedy         201   \n",
       "8226                                 Thriller|Romance          15   \n",
       "8235                                  Horror|Thriller          13   \n",
       "8523                                    Horror|Comedy          27   \n",
       "8944                            Action|Crime|Thriller          27   \n",
       "9332   Science Fiction|Adventure|Action|Comedy|Family         161   \n",
       "9992                        Action|Adventure|Thriller         615   \n",
       "10050                           Fantasy|Horror|Comedy          37   \n",
       "10236          Action|Adventure|Comedy|Family|Fantasy          95   \n",
       "10294                                 Horror|Thriller          86   \n",
       "10297                                          Comedy          72   \n",
       "10307                                   Romance|Drama          52   \n",
       "10777                                    Drama|Action          13   \n",
       "\n",
       "       vote_average  release_year    budget_adj  revenue_adj  \n",
       "1733            4.9          2009  7.623003e+01   136.197658  \n",
       "2398            7.3          2010  3.000000e+00    43.000000  \n",
       "2519            7.0          1999  3.272632e+01    17.017687  \n",
       "2618            4.8          1999  1.309053e+00   130.905285  \n",
       "3239            7.7          2008  2.025573e+05     3.038360  \n",
       "3853            5.9          2011  1.938796e+01    14.540971  \n",
       "3968            5.7          2002  8.243377e+01   233.966449  \n",
       "4675            6.7          2012  2.374361e+01    28.492328  \n",
       "4970            6.8          2003  1.185353e+08   296.338161  \n",
       "5060            4.7          2003  1.422423e+07    27.263111  \n",
       "5067            6.4          2003  7.112116e+06     2.370705  \n",
       "5162            6.8          2003  1.185353e+01     5.926763  \n",
       "5785            5.9          2013  1.404050e+01   114.196069  \n",
       "5852            6.5          2013  9.360334e+00    10.296367  \n",
       "6707            6.0          2006  9.194188e+07   155.760359  \n",
       "7158            6.2          2004  2.655224e+07    13.853345  \n",
       "7506            6.7          2007  9.465017e+06    48.376755  \n",
       "8125            5.5          1995  1.144773e+01    22.895470  \n",
       "8142            6.8          1995  8.585801e+06     2.861934  \n",
       "8226            4.5          1995  9.158188e+06     8.585801  \n",
       "8235            5.1          1995  8.585801e+00    15.740636  \n",
       "8523            4.9          1996  2.085325e+07     6.951084  \n",
       "8944            5.6          1982  4.519285e+00    36.154278  \n",
       "9332            6.0          1991  4.002732e+07   124.885242  \n",
       "9992            6.9          1990  5.006696e+01   333.779708  \n",
       "10050           5.8          1990  5.006696e+00    26.702377  \n",
       "10236           5.2          1993  3.169887e+01    63.397738  \n",
       "10294           3.9          1993  4.528410e+06    22.642049  \n",
       "10297           5.5          1993  1.207576e+01    40.755689  \n",
       "10307           6.7          1993  3.773675e+07     9.056820  \n",
       "10777           6.7          1978  3.676971e+01    36.769708  "
      ]
     },
     "execution_count": 105,
     "metadata": {},
     "output_type": "execute_result"
    }
   ],
   "source": [
    "#check rows that have revenues entered below \\\\$1000\n",
    "df[df.revenue_adj < 1000]"
   ]
  },
  {
   "cell_type": "markdown",
   "metadata": {},
   "source": [
    "There are a few movies that appear to have budgets below a reasonable amount. These rows mostly have revenues that are similar. These rows will be removed since their values were likely entered in error."
   ]
  },
  {
   "cell_type": "code",
   "execution_count": 106,
   "metadata": {},
   "outputs": [
    {
     "data": {
      "text/html": [
       "<div>\n",
       "<style scoped>\n",
       "    .dataframe tbody tr th:only-of-type {\n",
       "        vertical-align: middle;\n",
       "    }\n",
       "\n",
       "    .dataframe tbody tr th {\n",
       "        vertical-align: top;\n",
       "    }\n",
       "\n",
       "    .dataframe thead th {\n",
       "        text-align: right;\n",
       "    }\n",
       "</style>\n",
       "<table border=\"1\" class=\"dataframe\">\n",
       "  <thead>\n",
       "    <tr style=\"text-align: right;\">\n",
       "      <th></th>\n",
       "      <th>popularity</th>\n",
       "      <th>vote_count</th>\n",
       "      <th>vote_average</th>\n",
       "      <th>release_year</th>\n",
       "      <th>budget_adj</th>\n",
       "      <th>revenue_adj</th>\n",
       "    </tr>\n",
       "  </thead>\n",
       "  <tbody>\n",
       "    <tr>\n",
       "      <th>count</th>\n",
       "      <td>3820.000000</td>\n",
       "      <td>3820.000000</td>\n",
       "      <td>3820.000000</td>\n",
       "      <td>3820.000000</td>\n",
       "      <td>3.820000e+03</td>\n",
       "      <td>3.820000e+03</td>\n",
       "    </tr>\n",
       "    <tr>\n",
       "      <th>mean</th>\n",
       "      <td>1.197872</td>\n",
       "      <td>531.473037</td>\n",
       "      <td>6.170052</td>\n",
       "      <td>2001.280890</td>\n",
       "      <td>4.453979e+07</td>\n",
       "      <td>1.382208e+08</td>\n",
       "    </tr>\n",
       "    <tr>\n",
       "      <th>std</th>\n",
       "      <td>1.479861</td>\n",
       "      <td>882.829213</td>\n",
       "      <td>0.794036</td>\n",
       "      <td>11.296889</td>\n",
       "      <td>4.482926e+07</td>\n",
       "      <td>2.166912e+08</td>\n",
       "    </tr>\n",
       "    <tr>\n",
       "      <th>min</th>\n",
       "      <td>0.001117</td>\n",
       "      <td>10.000000</td>\n",
       "      <td>2.200000</td>\n",
       "      <td>1960.000000</td>\n",
       "      <td>6.310011e+03</td>\n",
       "      <td>1.840604e+03</td>\n",
       "    </tr>\n",
       "    <tr>\n",
       "      <th>25%</th>\n",
       "      <td>0.465197</td>\n",
       "      <td>72.000000</td>\n",
       "      <td>5.700000</td>\n",
       "      <td>1995.750000</td>\n",
       "      <td>1.336182e+07</td>\n",
       "      <td>1.910216e+07</td>\n",
       "    </tr>\n",
       "    <tr>\n",
       "      <th>50%</th>\n",
       "      <td>0.804415</td>\n",
       "      <td>206.000000</td>\n",
       "      <td>6.200000</td>\n",
       "      <td>2004.000000</td>\n",
       "      <td>3.030653e+07</td>\n",
       "      <td>6.245848e+07</td>\n",
       "    </tr>\n",
       "    <tr>\n",
       "      <th>75%</th>\n",
       "      <td>1.380126</td>\n",
       "      <td>583.000000</td>\n",
       "      <td>6.700000</td>\n",
       "      <td>2010.000000</td>\n",
       "      <td>6.076720e+07</td>\n",
       "      <td>1.648108e+08</td>\n",
       "    </tr>\n",
       "    <tr>\n",
       "      <th>max</th>\n",
       "      <td>32.985763</td>\n",
       "      <td>9767.000000</td>\n",
       "      <td>8.400000</td>\n",
       "      <td>2015.000000</td>\n",
       "      <td>4.250000e+08</td>\n",
       "      <td>2.827124e+09</td>\n",
       "    </tr>\n",
       "  </tbody>\n",
       "</table>\n",
       "</div>"
      ],
      "text/plain": [
       "        popularity   vote_count  vote_average  release_year    budget_adj  \\\n",
       "count  3820.000000  3820.000000   3820.000000   3820.000000  3.820000e+03   \n",
       "mean      1.197872   531.473037      6.170052   2001.280890  4.453979e+07   \n",
       "std       1.479861   882.829213      0.794036     11.296889  4.482926e+07   \n",
       "min       0.001117    10.000000      2.200000   1960.000000  6.310011e+03   \n",
       "25%       0.465197    72.000000      5.700000   1995.750000  1.336182e+07   \n",
       "50%       0.804415   206.000000      6.200000   2004.000000  3.030653e+07   \n",
       "75%       1.380126   583.000000      6.700000   2010.000000  6.076720e+07   \n",
       "max      32.985763  9767.000000      8.400000   2015.000000  4.250000e+08   \n",
       "\n",
       "        revenue_adj  \n",
       "count  3.820000e+03  \n",
       "mean   1.382208e+08  \n",
       "std    2.166912e+08  \n",
       "min    1.840604e+03  \n",
       "25%    1.910216e+07  \n",
       "50%    6.245848e+07  \n",
       "75%    1.648108e+08  \n",
       "max    2.827124e+09  "
      ]
     },
     "execution_count": 106,
     "metadata": {},
     "output_type": "execute_result"
    }
   ],
   "source": [
    "#remove all rows with budgets or revenues less than $1000\n",
    "df = df[df.budget_adj > 1000]\n",
    "df = df[df.revenue_adj > 1000]\n",
    "df.describe()"
   ]
  },
  {
   "cell_type": "code",
   "execution_count": 107,
   "metadata": {},
   "outputs": [
    {
     "name": "stdout",
     "output_type": "stream",
     "text": [
      "<class 'pandas.core.frame.DataFrame'>\n",
      "Int64Index: 3820 entries, 0 to 10848\n",
      "Data columns (total 8 columns):\n",
      "popularity        3820 non-null float64\n",
      "original_title    3820 non-null object\n",
      "genres            3820 non-null object\n",
      "vote_count        3820 non-null int64\n",
      "vote_average      3820 non-null float64\n",
      "release_year      3820 non-null int64\n",
      "budget_adj        3820 non-null float64\n",
      "revenue_adj       3820 non-null float64\n",
      "dtypes: float64(4), int64(2), object(2)\n",
      "memory usage: 268.6+ KB\n"
     ]
    }
   ],
   "source": [
    "df.info()"
   ]
  },
  {
   "cell_type": "markdown",
   "metadata": {},
   "source": [
    "Data types to be analyzed are all floats, with the exception of genre which is a string. No null values. No changes needed."
   ]
  },
  {
   "cell_type": "code",
   "execution_count": 108,
   "metadata": {},
   "outputs": [
    {
     "data": {
      "text/plain": [
       "False"
      ]
     },
     "execution_count": 108,
     "metadata": {},
     "output_type": "execute_result"
    }
   ],
   "source": [
    "#check for any missing values\n",
    "df.isnull().values.any()"
   ]
  },
  {
   "cell_type": "code",
   "execution_count": 109,
   "metadata": {},
   "outputs": [
    {
     "data": {
      "text/plain": [
       "1"
      ]
     },
     "execution_count": 109,
     "metadata": {},
     "output_type": "execute_result"
    }
   ],
   "source": [
    "#check for duplicate rows\n",
    "sum(df.duplicated())"
   ]
  },
  {
   "cell_type": "code",
   "execution_count": 110,
   "metadata": {},
   "outputs": [
    {
     "data": {
      "text/plain": [
       "0"
      ]
     },
     "execution_count": 110,
     "metadata": {},
     "output_type": "execute_result"
    }
   ],
   "source": [
    "#remove duplicate row, check if removed\n",
    "df.drop_duplicates(inplace= True)\n",
    "sum(df.duplicated())"
   ]
  },
  {
   "cell_type": "markdown",
   "metadata": {},
   "source": [
    "The data set had 1 duplicated row which was removed. The data has no missing values.\n",
    "The data is cleaned and ready for analysis."
   ]
  },
  {
   "cell_type": "markdown",
   "metadata": {},
   "source": [
    "<a id='eda'></a>\n",
    "## Exploratory Data Analysis\n",
    "\n",
    "\n",
    "### Can movie budget, rating, or genre be used to predict revenue?"
   ]
  },
  {
   "cell_type": "code",
   "execution_count": 111,
   "metadata": {},
   "outputs": [],
   "source": [
    "#create masks for budget amounts, where small is bottom 25%, medium is middle 50%, and large is top 25%\n",
    "s_revenue = df.revenue_adj < 1.910216e+07\n",
    "m_revenue = (df.revenue_adj >= 1.910216e+07) & (df.revenue_adj <= 1.632401e+08)\n",
    "l_revenue = df.revenue_adj > 1.632401e+08\n"
   ]
  },
  {
   "cell_type": "markdown",
   "metadata": {},
   "source": [
    "The budgets are categorized into small, medium, and large, where they represent the bottom 25%, middle 50%, and top 25% of the data, respectively."
   ]
  },
  {
   "cell_type": "markdown",
   "metadata": {},
   "source": [
    "<a id='eda'></a>\n",
    "### Budget"
   ]
  },
  {
   "cell_type": "code",
   "execution_count": 112,
   "metadata": {},
   "outputs": [
    {
     "name": "stdout",
     "output_type": "stream",
     "text": [
      "Mean Budget\n",
      "Small Revenue: 16401464.477693591\n",
      "Medium Revenue: 37121265.78112515\n",
      "Large Revenue: 87082414.01026456\n"
     ]
    }
   ],
   "source": [
    "#calculate the mean budget for each revenue category\n",
    "s_rev_bud = df.budget_adj[s_revenue].mean()\n",
    "m_rev_bud = df.budget_adj[m_revenue].mean()\n",
    "l_rev_bud = df.budget_adj[l_revenue].mean()\n",
    "\n",
    "print(\"Mean Budget\\nSmall Revenue: {}\\nMedium Revenue: {}\\nLarge Revenue: {}\".format(s_rev_bud, m_rev_bud, l_rev_bud))"
   ]
  },
  {
   "cell_type": "markdown",
   "metadata": {},
   "source": [
    "Mean budget is much higher the higher category of revenue."
   ]
  },
  {
   "cell_type": "code",
   "execution_count": 113,
   "metadata": {},
   "outputs": [
    {
     "data": {
      "image/png": "[encoded data removed]",
      "text/plain": [
       "<matplotlib.figure.Figure at 0x7fe681949e10>"
      ]
     },
     "metadata": {
      "needs_background": "light"
     },
     "output_type": "display_data"
    }
   ],
   "source": [
    "#plot triple histogram that represents each revenue category's budget.\n",
    "df.budget_adj[s_revenue].hist(alpha= .5, bins= 20, label= 'Small Revenue')\n",
    "df.budget_adj[m_revenue].hist(alpha= .5, bins= 20, label= 'Medium Revenue')\n",
    "df.budget_adj[l_revenue].hist(alpha= .5, bins= 20, label= 'Large Revenue')\n",
    "plt.legend()\n",
    "plt.xlabel('Budget (100 millions)', size='large')\n",
    "plt.ylabel('Frequency', size='large')\n",
    "plt.title('Movie Budget by Revenue', size='x-large');"
   ]
  },
  {
   "cell_type": "markdown",
   "metadata": {},
   "source": [
    "Small revenue movies tend to have smaller budgets while large revenue movies tend to have larger (and more vaired) budgets."
   ]
  },
  {
   "cell_type": "code",
   "execution_count": 114,
   "metadata": {},
   "outputs": [],
   "source": [
    "def revenue_bar(df, column, moc):\n",
    "    \"\"\"plots a bar graph grouped by revenue category compared with provided column and measure of center\n",
    "        column, moc provided as strings\"\"\"\n",
    "    rev_cats = [l_revenue, m_revenue, s_revenue]\n",
    "    \n",
    "    if column == 'budget_adj' and moc == 'mean':\n",
    "        df.groupby(rev_cats).budget_adj.mean().plot(kind='bar')\n",
    "    elif column == 'budget_adj' and moc == 'median':\n",
    "        df.groupby(rev_cats).budget_adj.median().plot(kind='bar')\n",
    "    elif column == 'vote_average' and moc == 'mean':\n",
    "        df.groupby(rev_cats).vote_average.mean().plot(kind='bar')\n",
    "    elif column == 'vote_average' and moc == 'median':\n",
    "        df.groupby(rev_cats).vote_average.median().plot(kind='bar')\n",
    "    else:\n",
    "        print('Please enter valid parameters')\n",
    "        return\n",
    "    "
   ]
  },
  {
   "cell_type": "code",
   "execution_count": 115,
   "metadata": {},
   "outputs": [
    {
     "data": {
      "image/png": "[encoded data removed]",
      "text/plain": [
       "<matplotlib.figure.Figure at 0x7fe6817d6ac8>"
      ]
     },
     "metadata": {
      "needs_background": "light"
     },
     "output_type": "display_data"
    }
   ],
   "source": [
    "#create bar graph grouped by revenue that shows mean budget\n",
    "revenue_bar(df, 'budget_adj', 'mean')\n",
    "\n",
    "plt.xticks([0, 1, 2], ('Small', 'Medium', 'Large'), rotation= 0)\n",
    "plt.title('Mean Movie Budget By Revenue', size='x-large')\n",
    "plt.xlabel('Revenue Amount', size='large')\n",
    "plt.ylabel('Mean Budget (100 millions)', size='large');"
   ]
  },
  {
   "cell_type": "code",
   "execution_count": 116,
   "metadata": {},
   "outputs": [
    {
     "data": {
      "image/png": "[encoded data removed]",
      "text/plain": [
       "<matplotlib.figure.Figure at 0x7fe681949b38>"
      ]
     },
     "metadata": {
      "needs_background": "light"
     },
     "output_type": "display_data"
    }
   ],
   "source": [
    "#create bar graph grouped by revenue that shows median budget\n",
    "revenue_bar(df, 'budget_adj', 'median')\n",
    "\n",
    "plt.xticks([0, 1, 2], ('Small', 'Medium', 'Large'), rotation= 0)\n",
    "plt.title('Median Movie Budget By Revenue', size='x-large')\n",
    "plt.xlabel('Revenue Amount', size='large')\n",
    "plt.ylabel('Median Budget (100 millions)', size='large');"
   ]
  },
  {
   "cell_type": "markdown",
   "metadata": {},
   "source": [
    "This same trend is true for the mean and median budgets as well."
   ]
  },
  {
   "cell_type": "markdown",
   "metadata": {},
   "source": [
    "<a id='eda'></a>\n",
    "### Rating"
   ]
  },
  {
   "cell_type": "code",
   "execution_count": 117,
   "metadata": {},
   "outputs": [
    {
     "data": {
      "image/png": "[encoded data removed]",
      "text/plain": [
       "<matplotlib.figure.Figure at 0x7fe68158bcc0>"
      ]
     },
     "metadata": {
      "needs_background": "light"
     },
     "output_type": "display_data"
    }
   ],
   "source": [
    "#plot triple histogram that represents each revenue category's rating.\n",
    "df.vote_average[s_revenue].hist(alpha= .5, bins= 20, label= 'Small Revenue')\n",
    "df.vote_average[m_revenue].hist(alpha= .5, bins= 20, label= 'Medium Revenue')\n",
    "df.vote_average[l_revenue].hist(alpha= .5, bins= 20, label= 'Large Revenue')\n",
    "plt.legend()\n",
    "plt.xlabel('Rating (out of 10)', size='large')\n",
    "plt.ylabel('Frequency', size='large')\n",
    "plt.title('Movie Rating by Revenue', size='x-large');"
   ]
  },
  {
   "cell_type": "markdown",
   "metadata": {},
   "source": [
    "All three revenue categories appear to have similar ratings."
   ]
  },
  {
   "cell_type": "code",
   "execution_count": 118,
   "metadata": {},
   "outputs": [
    {
     "data": {
      "image/png": "[encoded data removed]",
      "text/plain": [
       "<matplotlib.figure.Figure at 0x7fe680ab5780>"
      ]
     },
     "metadata": {
      "needs_background": "light"
     },
     "output_type": "display_data"
    }
   ],
   "source": [
    "#create bar graph grouped by revenue that shows mean rating\n",
    "revenue_bar(df, 'vote_average', 'mean')\n",
    "\n",
    "plt.xticks([0, 1, 2], ('Small', 'Medium', 'Large'), rotation= 0)\n",
    "plt.title('Mean Rating By Revenue', size='x-large')\n",
    "plt.xlabel('Revenue Amount', size='large')\n",
    "plt.ylabel('Mean Rating (out of 10)', size='large');"
   ]
  },
  {
   "cell_type": "code",
   "execution_count": 119,
   "metadata": {},
   "outputs": [
    {
     "data": {
      "image/png": "[encoded data removed]",
      "text/plain": [
       "<matplotlib.figure.Figure at 0x7fe67c1776a0>"
      ]
     },
     "metadata": {
      "needs_background": "light"
     },
     "output_type": "display_data"
    }
   ],
   "source": [
    "#create bar graph grouped by revenue that shows median rating\n",
    "revenue_bar(df, 'vote_average', 'median')\n",
    "\n",
    "plt.xticks([0, 1, 2], ('Small', 'Medium', 'Large'), rotation= 0)\n",
    "plt.title('Median Rating By Revenue', size='x-large')\n",
    "plt.xlabel('Revenue Amount', size='large')\n",
    "plt.ylabel('Median Rating (out of 10)', size='large');"
   ]
  },
  {
   "cell_type": "markdown",
   "metadata": {},
   "source": [
    "Mean and median ratings appear to be very close, but with a slight upward trend as budget increases."
   ]
  },
  {
   "cell_type": "markdown",
   "metadata": {},
   "source": [
    "<a id='eda'></a>\n",
    "### Genre"
   ]
  },
  {
   "cell_type": "code",
   "execution_count": 120,
   "metadata": {},
   "outputs": [],
   "source": [
    "#make dataframes for the 5 genres to be investigated\n",
    "action = df[df['genres'].str.contains('Action')]\n",
    "drama = df[df['genres'].str.contains('Drama')]\n",
    "comedy = df[df['genres'].str.contains('Comedy')]\n",
    "horror = df[df['genres'].str.contains('Horror')]\n",
    "romance = df[df['genres'].str.contains('Romance')]"
   ]
  },
  {
   "cell_type": "markdown",
   "metadata": {},
   "source": [
    "The 5 genres to be investigated are action, drama, comedy, horror, and romance."
   ]
  },
  {
   "cell_type": "code",
   "execution_count": 121,
   "metadata": {},
   "outputs": [],
   "source": [
    "#calculate and store mean revenue for each genre\n",
    "mean_action_rev = action['revenue_adj'].mean()\n",
    "mean_drama_rev = drama['revenue_adj'].mean()\n",
    "mean_comedy_rev = comedy['revenue_adj'].mean()\n",
    "mean_horror_rev = horror['revenue_adj'].mean()\n",
    "mean_romance_rev = romance['revenue_adj'].mean()"
   ]
  },
  {
   "cell_type": "code",
   "execution_count": 122,
   "metadata": {},
   "outputs": [
    {
     "data": {
      "image/png": "[encoded data removed]",
      "text/plain": [
       "<matplotlib.figure.Figure at 0x7fe680856cf8>"
      ]
     },
     "metadata": {
      "needs_background": "light"
     },
     "output_type": "display_data"
    }
   ],
   "source": [
    "#plot bar graph showing mean revenue by genre\n",
    "bar_locs = [.5, 1.5, 2.5, 3.5, 4.5]\n",
    "colors = ['green', 'yellow', 'blue', 'black', 'red']\n",
    "plt.bar(bar_locs, [mean_action_rev, mean_drama_rev, mean_comedy_rev, mean_horror_rev, mean_romance_rev], color= colors)\n",
    "plt.xticks(bar_locs,('Action', 'Drama', 'Comedy', 'Horror', 'Romance'))\n",
    "plt.xlabel('Genre', size='x-large')\n",
    "plt.ylabel('Mean Revenue (100 millions)', size='large')\n",
    "plt.title('Mean Revenue by Movie Genre', size='x-large');"
   ]
  },
  {
   "cell_type": "markdown",
   "metadata": {},
   "source": [
    "Action movies typically have higher revenues than other genres, while horror movies typically have lower revenues."
   ]
  },
  {
   "cell_type": "markdown",
   "metadata": {},
   "source": [
    "### Do profitable movies have different characteristics than nonprofitable movies?"
   ]
  },
  {
   "cell_type": "code",
   "execution_count": 123,
   "metadata": {},
   "outputs": [],
   "source": [
    "#create masks for profitable and nonprofitable movies\n",
    "profit = df.budget_adj < df.revenue_adj\n",
    "no_profit = df.budget_adj >= df.revenue_adj"
   ]
  },
  {
   "cell_type": "markdown",
   "metadata": {},
   "source": [
    "<a id='eda'></a>\n",
    "### Profitable"
   ]
  },
  {
   "cell_type": "code",
   "execution_count": 124,
   "metadata": {},
   "outputs": [
    {
     "data": {
      "image/png": "[encoded data removed]",
      "text/plain": [
       "<matplotlib.figure.Figure at 0x7fe680914dd8>"
      ]
     },
     "metadata": {
      "needs_background": "light"
     },
     "output_type": "display_data"
    }
   ],
   "source": [
    "#display histograms for profitable movies\n",
    "df[profit].hist(figsize= (10, 10));"
   ]
  },
  {
   "cell_type": "markdown",
   "metadata": {},
   "source": [
    "<a id='eda'></a>\n",
    "### Nonprofitable"
   ]
  },
  {
   "cell_type": "code",
   "execution_count": 125,
   "metadata": {},
   "outputs": [
    {
     "data": {
      "image/png": "[encoded data removed]",
      "text/plain": [
       "<matplotlib.figure.Figure at 0x7fe68055add8>"
      ]
     },
     "metadata": {
      "needs_background": "light"
     },
     "output_type": "display_data"
    }
   ],
   "source": [
    "#display histograms for nonprofitable movies\n",
    "df[no_profit].hist(figsize= (10, 10));"
   ]
  },
  {
   "cell_type": "markdown",
   "metadata": {},
   "source": [
    "Histograms all appear to have similar distributions between profitable movies and nonprofitable movies."
   ]
  },
  {
   "cell_type": "code",
   "execution_count": 126,
   "metadata": {},
   "outputs": [
    {
     "data": {
      "image/png": "[encoded data removed]",
      "text/plain": [
       "<matplotlib.figure.Figure at 0x7fe680b7c7b8>"
      ]
     },
     "metadata": {
      "needs_background": "light"
     },
     "output_type": "display_data"
    }
   ],
   "source": [
    "#create bar graph grouped by profitable and nonprofitable that shows median budget\n",
    "df.groupby([profit, no_profit]).budget_adj.median().plot(kind='bar')\n",
    "\n",
    "plt.xticks([0, 1], ('Loss', 'Profit'), rotation= 0)\n",
    "plt.title('Median Budget by Profit or Loss', size='x-large')\n",
    "plt.ylabel('Median Budget (10 millions)', size='large')\n",
    "plt.xlabel('Revenue', size= 'large');"
   ]
  },
  {
   "cell_type": "markdown",
   "metadata": {},
   "source": [
    "Movies that are profitable tend to have higher budgets."
   ]
  },
  {
   "cell_type": "code",
   "execution_count": 127,
   "metadata": {},
   "outputs": [
    {
     "data": {
      "image/png": "[encoded data removed]",
      "text/plain": [
       "<matplotlib.figure.Figure at 0x7fe680a98198>"
      ]
     },
     "metadata": {
      "needs_background": "light"
     },
     "output_type": "display_data"
    }
   ],
   "source": [
    "#create bar graph grouped by profitable and nonprofitable that shows mean rating\n",
    "df.groupby([profit, no_profit]).vote_average.mean().plot(kind='bar')\n",
    "\n",
    "plt.xticks([0, 1], ('Loss', 'Profit'), rotation= 0)\n",
    "plt.title('Mean Rating by Profit or Loss', size='x-large')\n",
    "plt.ylabel('Mean Rating (out of 10)', size='large')\n",
    "plt.xlabel('Revenue', size ='large');"
   ]
  },
  {
   "cell_type": "markdown",
   "metadata": {},
   "source": [
    "Mean rating is only slightly higher for profitable movies."
   ]
  },
  {
   "cell_type": "markdown",
   "metadata": {},
   "source": [
    "<a id='conclusions'></a>\n",
    "## Conclusions\n",
    "\n",
    "When comparing movie revenues to budget, it appears that a higher budget is often associated with more revenue, as the mean and median budgets were positively correlated with revenue. Movie revenues and average movie rating were positively correlated as well, but rating appeared to make less of a difference in revenue than budget. Movie revenues and genre showed that action movies typically had higher revenues than other genres, and horror movies typically resulted in lower revenues. \n",
    "\n",
    "Analyzing different characteristics of movies that resulted in a profit versus movies that did not showed similar distributions between the two. It appeared movies that resulted in a profit typically had higher budgets and average ratings than movies that did not turn a profit.\n",
    "\n",
    "### Limitations\n",
    "\n",
    "Over half of the data was missing values for revenue, budget, or both and thus had to be omitted from the analysis. This limited the sample size compared to the original data set. In addition, statistical tests were not run so conclusions are drawn based on graphs and measures of center only. This may mean some differences and correlations are more or less significant than they seem. Thus, it cannot be concluded that these factors have significant correlation to movie revenue, only inferred.\n"
   ]
  },
  {
   "cell_type": "code",
   "execution_count": 128,
   "metadata": {},
   "outputs": [
    {
     "data": {
      "text/plain": [
       "0"
      ]
     },
     "execution_count": 128,
     "metadata": {},
     "output_type": "execute_result"
    }
   ],
   "source": [
    "from subprocess import call\n",
    "call(['python', '-m', 'nbconvert', 'Investigate_a_Dataset.ipynb'])"
   ]
  },
  {
   "cell_type": "code",
   "execution_count": null,
   "metadata": {},
   "outputs": [],
   "source": []
  }
 ],
 "metadata": {
  "kernelspec": {
   "display_name": "Python 3",
   "language": "python",
   "name": "python3"
  },
  "language_info": {
   "codemirror_mode": {
    "name": "ipython",
    "version": 3
   },
   "file_extension": ".py",
   "mimetype": "text/x-python",
   "name": "python",
   "nbconvert_exporter": "python",
   "pygments_lexer": "ipython3",
   "version": "3.6.3"
  }
 },
 "nbformat": 4,
 "nbformat_minor": 2
}
